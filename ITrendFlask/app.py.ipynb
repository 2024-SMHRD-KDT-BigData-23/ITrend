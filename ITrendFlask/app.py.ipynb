{
 "cells": [
  {
   "cell_type": "code",
   "execution_count": 16,
   "id": "9215de08",
   "metadata": {},
   "outputs": [
    {
     "name": "stdout",
     "output_type": "stream",
     "text": [
      " * Serving Flask app '__main__'\n",
      " * Debug mode: off\n"
     ]
    },
    {
     "name": "stderr",
     "output_type": "stream",
     "text": [
      "WARNING: This is a development server. Do not use it in a production deployment. Use a production WSGI server instead.\n",
      " * Running on http://127.0.0.1:5000\n",
      "Press CTRL+C to quit\n",
      "127.0.0.1 - - [11/Jun/2024 14:37:07] \"GET / HTTP/1.1\" 404 -\n",
      "127.0.0.1 - - [11/Jun/2024 14:37:31] \"POST /case2 HTTP/1.1\" 400 -\n"
     ]
    }
   ],
   "source": [
    "# app.py\n",
    "import json\n",
    "from flask import Flask, request, jsonify\n",
    "import numpy as np\n",
    "from tensorflow.keras.models import load_model\n",
    "from tensorflow.keras.preprocessing.sequence import pad_sequences\n",
    "from sklearn.preprocessing import LabelEncoder\n",
    "import tensorflow as tf\n",
    "from tensorflow.keras.preprocessing.text import tokenizer_from_json\n",
    "\n",
    "\n",
    "app = Flask(__name__)\n",
    "\n",
    "# 모델과 토크나이저, 레이블 인코더 로드\n",
    "model = load_model('./data/my_model.keras')\n",
    "# JSON 파일에서 Tokenizer 로드\n",
    "with open('./data/tokenizer.json') as json_file:\n",
    "    tokenizer_json = json.load(json_file)\n",
    "tokenizer = tokenizer_from_json(tokenizer_json)\n",
    "\n",
    "# JSON 파일에서 LabelEncoder 로드\n",
    "with open('./data/label_encoder.json') as json_file:\n",
    "    label_encoder_classes = json.load(json_file)\n",
    "label_encoder = LabelEncoder()\n",
    "label_encoder.classes_ = np.array(label_encoder_classes)\n",
    "\n",
    "@app.route('/recommend', methods=['POST'])\n",
    "def recommend_jobs():\n",
    "    data = request.json\n",
    "    skills = data.get('skills')\n",
    "    num_recommendations = data.get('num_recommendations', 3)\n",
    "    \n",
    "    sequences = tokenizer.texts_to_sequences([skills])\n",
    "    max_len = model.input_shape[1]\n",
    "    padded_sequence = pad_sequences(sequences, maxlen=max_len)\n",
    "    padded_sequence = np.reshape(padded_sequence, (padded_sequence.shape[0], padded_sequence.shape[1], 1))\n",
    "    \n",
    "    predictions = model.predict(padded_sequence)\n",
    "    top_indices = predictions[0].argsort()[-num_recommendations:][::-1]\n",
    "    recommended_jobs = label_encoder.inverse_transform(top_indices)\n",
    "    \n",
    "    return jsonify({'recommended_jobs': recommended_jobs.tolist()})\n",
    "\n",
    "if __name__ == '__main__':\n",
    "    app.run('127.0.0.1',port=5000)"
   ]
  }
 ],
 "metadata": {
  "kernelspec": {
   "display_name": "Python 3 (ipykernel)",
   "language": "python",
   "name": "python3"
  },
  "language_info": {
   "codemirror_mode": {
    "name": "ipython",
    "version": 3
   },
   "file_extension": ".py",
   "mimetype": "text/x-python",
   "name": "python",
   "nbconvert_exporter": "python",
   "pygments_lexer": "ipython3",
   "version": "3.11.5"
  }
 },
 "nbformat": 4,
 "nbformat_minor": 5
}
